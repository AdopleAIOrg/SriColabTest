{
  "cells": [
    {
      "cell_type": "markdown",
      "metadata": {
        "id": "view-in-github",
        "colab_type": "text"
      },
      "source": [
        "<a href=\"https://colab.research.google.com/github/AdopleAIOrg/SriColabTest/blob/feature%2FExtraction/Extraction.ipynb\" target=\"_parent\"><img src=\"https://colab.research.google.com/assets/colab-badge.svg\" alt=\"Open In Colab\"/></a>"
      ]
    },
    {
      "cell_type": "code",
      "source": [
        "import re\n",
        "import json\n",
        "\n",
        "def extract_nodes_edges_pos(text):\n",
        "    # Extract nodes\n",
        "    nodes_match = re.search(r\"Nodes: (\\[.*?\\])\", text)\n",
        "    nodes = json.loads(nodes_match.group(1)) if nodes_match else \"\"\n",
        "\n",
        "    # Extract edges\n",
        "    edges_match = re.search(r\"Edges: (\\[.*?\\])\", text)\n",
        "    edges = json.loads(edges_match.group(1)) if edges_match else \"\"\n",
        "\n",
        "    # Extract pos\n",
        "    pos_match = re.search(r\"Pos: ({.*?})\", text)\n",
        "    pos = json.loads(pos_match.group(1)) if pos_match else \"\"\n",
        "\n",
        "    return nodes, edges, pos\n",
        "\n",
        "# Example usage\n",
        "text = '''Convert the following 'Healthy Eating,' serves as the root node in the text-to-tree representation...\n",
        "... (the remaining text from your example)'''\n",
        "\n",
        "result = extract_nodes_edges_pos(text)\n",
        "print(result)\n"
      ],
      "metadata": {
        "id": "1qqI3OOaS0PL"
      },
      "execution_count": null,
      "outputs": []
    }
  ],
  "metadata": {
    "colab": {
      "name": "Welcome To Colaboratory",
      "toc_visible": true,
      "provenance": [],
      "include_colab_link": true
    },
    "kernelspec": {
      "display_name": "Python 3",
      "name": "python3"
    }
  },
  "nbformat": 4,
  "nbformat_minor": 0
}