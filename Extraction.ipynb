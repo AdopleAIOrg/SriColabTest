{
  "cells": [
    {
      "cell_type": "markdown",
      "metadata": {
        "id": "view-in-github",
        "colab_type": "text"
      },
      "source": [
        "<a href=\"https://colab.research.google.com/github/AdopleAIOrg/SriColabTest/blob/feature%2FExtraction/Extraction.ipynb\" target=\"_parent\"><img src=\"https://colab.research.google.com/assets/colab-badge.svg\" alt=\"Open In Colab\"/></a>"
      ]
    },
    {
      "cell_type": "code",
      "source": [
        "import re\n",
        "import json\n",
        "\n",
        "def extract_nodes_edges_pos(text):\n",
        "    # Extract nodes\n",
        "    nodes_match = re.search(r\"Nodes: (\\[.*?\\])\", text)\n",
        "    nodes = json.loads(nodes_match.group(1)) if nodes_match else \"\"\n",
        "\n",
        "    # Extract edges\n",
        "    edges_match = re.search(r\"Edges: (\\[.*?\\])\", text)\n",
        "    edges = json.loads(edges_match.group(1)) if edges_match else \"\"\n",
        "\n",
        "    # Extract pos\n",
        "    pos_match = re.search(r\"Pos: ({.*?})\", text)\n",
        "    pos = json.loads(pos_match.group(1)) if pos_match else \"\"\n",
        "\n",
        "    return nodes, edges, pos"
      ],
      "metadata": {
        "id": "1qqI3OOaS0PL"
      },
      "execution_count": 1,
      "outputs": []
    },
    {
      "cell_type": "code",
      "source": [
        "\n",
        "text = ''' '''\n",
        "\n",
        "result = extract_nodes_edges_pos(text)\n",
        "print(result)"
      ],
      "metadata": {
        "id": "xMYV1JUcTFEL",
        "outputId": "5566dcdc-8328-4809-f58a-5329815d9c11",
        "colab": {
          "base_uri": "https://localhost:8080/"
        }
      },
      "execution_count": 2,
      "outputs": [
        {
          "output_type": "stream",
          "name": "stdout",
          "text": [
            "('', '', '')\n"
          ]
        }
      ]
    },
    {
      "cell_type": "code",
      "source": [],
      "metadata": {
        "id": "m2aYmUnETLMI"
      },
      "execution_count": null,
      "outputs": []
    }
  ],
  "metadata": {
    "colab": {
      "name": "Welcome To Colaboratory",
      "toc_visible": true,
      "provenance": [],
      "include_colab_link": true
    },
    "kernelspec": {
      "display_name": "Python 3",
      "name": "python3"
    }
  },
  "nbformat": 4,
  "nbformat_minor": 0
}